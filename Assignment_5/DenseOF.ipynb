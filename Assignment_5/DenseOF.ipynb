{
 "cells": [
  {
   "cell_type": "code",
   "execution_count": 14,
   "metadata": {},
   "outputs": [],
   "source": [
    "from tensorflow.keras.layers import Layer, BatchNormalization, Conv2D, Dense, Flatten, Add, Dropout, BatchNormalization,Conv1D,MaxPooling1D\n",
    "import tensorflow as tf\n",
    "from tensorflow.keras.models import Model\n",
    "import numpy as np\n",
    "from tensorflow.keras.datasets import fashion_mnist\n",
    "from tensorflow.keras.utils import to_categorical\n",
    "import matplotlib.pyplot as plt\n",
    "from sklearn.model_selection import train_test_split\n",
    "from tensorflow.keras.preprocessing.image import ImageDataGenerator\n",
    "import os\n",
    "from tensorflow.keras import Input, layers\n",
    "from tensorflow.keras.layers import Dense, Flatten, Conv2D, MaxPooling2D\n",
    "import time\n",
    "import cv2\n",
    "import random"
   ]
  },
  {
   "cell_type": "code",
   "execution_count": 2,
   "metadata": {},
   "outputs": [
    {
     "name": "stdout",
     "output_type": "stream",
     "text": [
      "Set 2 to be used for train and validation \n",
      "\t100/['handShake_0001.avi', 'handShake_0003.avi', 'handShake_0004.avi', 'handShake_0005.avi', 'handShake_0006.avi', 'handShake_0007.avi', 'handShake_0008.avi', 'handShake_0009.avi', 'handShake_0010.avi', 'handShake_0011.avi', 'handShake_0012.avi', 'handShake_0013.avi', 'handShake_0017.avi', 'handShake_0022.avi', 'handShake_0023.avi', 'handShake_0029.avi', 'handShake_0030.avi', 'handShake_0031.avi', 'handShake_0033.avi', 'handShake_0034.avi', 'handShake_0035.avi', 'handShake_0036.avi', 'handShake_0037.avi', 'handShake_0038.avi', 'handShake_0039.avi', 'highFive_0002.avi', 'highFive_0003.avi', 'highFive_0004.avi', 'highFive_0005.avi', 'highFive_0014.avi', 'highFive_0015.avi', 'highFive_0016.avi', 'highFive_0017.avi', 'highFive_0018.avi', 'highFive_0019.avi', 'highFive_0020.avi', 'highFive_0021.avi', 'highFive_0022.avi', 'highFive_0026.avi', 'highFive_0036.avi', 'highFive_0037.avi', 'highFive_0038.avi', 'highFive_0039.avi', 'highFive_0040.avi', 'highFive_0041.avi', 'highFive_0042.avi', 'highFive_0043.avi', 'highFive_0046.avi', 'highFive_0049.avi', 'highFive_0050.avi', 'hug_0001.avi', 'hug_0005.avi', 'hug_0006.avi', 'hug_0007.avi', 'hug_0008.avi', 'hug_0009.avi', 'hug_0010.avi', 'hug_0013.avi', 'hug_0014.avi', 'hug_0019.avi', 'hug_0022.avi', 'hug_0023.avi', 'hug_0024.avi', 'hug_0025.avi', 'hug_0026.avi', 'hug_0028.avi', 'hug_0037.avi', 'hug_0038.avi', 'hug_0039.avi', 'hug_0040.avi', 'hug_0041.avi', 'hug_0043.avi', 'hug_0045.avi', 'hug_0047.avi', 'hug_0048.avi', 'kiss_0002.avi', 'kiss_0003.avi', 'kiss_0004.avi', 'kiss_0005.avi', 'kiss_0006.avi', 'kiss_0015.avi', 'kiss_0019.avi', 'kiss_0020.avi', 'kiss_0021.avi', 'kiss_0025.avi', 'kiss_0027.avi', 'kiss_0028.avi', 'kiss_0030.avi', 'kiss_0032.avi', 'kiss_0033.avi', 'kiss_0034.avi', 'kiss_0037.avi', 'kiss_0043.avi', 'kiss_0044.avi', 'kiss_0045.avi', 'kiss_0046.avi', 'kiss_0047.avi', 'kiss_0048.avi', 'kiss_0049.avi', 'kiss_0050.avi'] \n"
     ]
    }
   ],
   "source": [
    "#SET 1:\n",
    "set_1_ind =[[2,14,15,16,18,19,20,21,24,25,26,27,28,32,40,41,42,43,44,45,46,47,48,49,50],\n",
    "[ 1,6,7,8,9,10,11,12,13,23,24,25,27,28,29,30,31,32,33,34,35,44,45,47,48],\n",
    "[2,3,4,11,12,15,16,17,18,20,21,27,29,30,31,32,33,34,35,36,42,44,46,49,50],[ 1,7,8,9,10,11,12,13,14,16,17,18,22,23,24,26,29,31,35,36,38,39,40,41,42]]\n",
    "\n",
    "\n",
    "#SET 2:\n",
    "set_2_ind = [[1,3,4,5,6,7,8,9,10,11,12,13,17,22,23,29,30,31,33,34,35,36,37,38,39], [2,3,4,5,14,15,16,17,18,19,20,21,22,26,36,37,38,39,40,41,42,43,46,49,50], \n",
    "[1,5,6,7,8,9,10,13,14,19,22,23,24,25,26,28,37,38,39,40,41,43,45,47,48], [2,3,4,5,6,15,19,20,21,25,27,28,30,32,33,34,37,43,44,45,46,47,48,49,50]]\n",
    "\n",
    "set_name = [\"handShake\", \"highFive\", \"hug\", \"kiss\"]\n",
    "\n",
    "\n",
    "set_1 = [f'{set_name[c]}_{i:04d}.avi' for c in range(len(set_name)) for i in set_1_ind[c]]\n",
    "set_1_label =[f'{set_name[c]}' for c in range(len(set_name)) for i in set_1_ind[c]]\n",
    "\n",
    "set_2 = [f'{set_name[c]}_{i:04d}.avi' for c in range(len(set_name)) for i in set_2_ind[c]]\n",
    "set_2_label =[f'{set_name[c]}' for c in range(len(set_name)) for i in set_2_ind[c]]\n",
    "\n",
    "set_2 = [f'{set_name[c]}_{i:04d}.avi' for c in range(len(set_name)) for i in set_2_ind[c]]\n",
    "set_2_label =[f'{set_name[c]}' for c in range(len(set_name)) for i in set_2_ind[c]]\n",
    "\n",
    "# note that we ignore the negative / not found founds\n",
    "\n",
    "print(f'Set 2 to be used for train and validation \\n\\t{len(set_2)}/{set_2} ')\n"
   ]
  },
  {
   "cell_type": "code",
   "execution_count": 3,
   "metadata": {},
   "outputs": [],
   "source": [
    "def return_processed_middle_frame(set_, set_idx, dim):\n",
    "    cap = cv2.VideoCapture(f\"tv_human_interactions_videos/{set_[set_idx]}\")\n",
    "    length = int(cap.get(cv2.CAP_PROP_FRAME_COUNT))\n",
    "    middle_frame = int(length / 2)\n",
    "    cap.set(1, middle_frame)\n",
    "    ret, frame = cap.read()\n",
    "    frame = frame / 255.0\n",
    "    frame = cv2.resize(frame, dim, interpolation=cv2.INTER_AREA)\n",
    "    return frame\n",
    "\n",
    "def preprocess_labels(labels):\n",
    "    train_labels_names = set(labels)\n",
    "    #train_labels_nums = [i for i in range(len(train_labels_names))]\n",
    "    train_labels_y = []\n",
    "\n",
    "    train_labels_names = list(train_labels_names)\n",
    "\n",
    "    for class_name in labels:\n",
    "        i = train_labels_names.index(class_name)\n",
    "        train_labels_y.append(i)\n",
    "\n",
    "    return np.array(train_labels_y)"
   ]
  },
  {
   "cell_type": "code",
   "execution_count": 4,
   "metadata": {},
   "outputs": [],
   "source": [
    "import numpy as np\n",
    "import cv2 as cv\n",
    "\n",
    "def denseOpticalFlow(set_, set_idx, num_frames,dim ,show = False):\n",
    "\n",
    "\n",
    "    cap = cv2.VideoCapture(f\"tv_human_interactions_videos/{set_[set_idx]}\")\n",
    "    length = int(cap.get(cv2.CAP_PROP_FRAME_COUNT))\n",
    "    middle_frame = int(length / 2)\n",
    "    cap.set(1, middle_frame)\n",
    "    ret, frame1 = cap.read()\n",
    "    \n",
    "    prvs = cv.cvtColor(frame1, cv.COLOR_BGR2GRAY)\n",
    "    hsv = np.zeros_like(frame1)\n",
    "    hsv[..., 1] = 255\n",
    "    i =0\n",
    "\n",
    "    out = np.zeros((dim[0],dim[1],3,num_frames))\n",
    "    while(i<num_frames):\n",
    "        ret, frame2 = cap.read()\n",
    "        if not ret:\n",
    "            print('No frames grabbed!')\n",
    "            break\n",
    "        next = cv.cvtColor(frame2, cv.COLOR_BGR2GRAY)\n",
    "        flow = cv.calcOpticalFlowFarneback(prvs, next, None, 0.5, 3, 15, 3, 5, 1.2, 0)\n",
    "        mag, ang = cv.cartToPolar(flow[..., 0], flow[..., 1])\n",
    "        hsv[..., 0] = ang*180/np.pi/2\n",
    "        hsv[..., 2] = cv.normalize(mag, None, 0, 255, cv.NORM_MINMAX)\n",
    "        bgr = cv.cvtColor(hsv, cv.COLOR_HSV2BGR)\n",
    "        \n",
    "        if(num_frames>1):\n",
    "            bgr = cv2.resize(bgr, dim, interpolation=cv2.INTER_AREA)\n",
    "            out[:,:,:,i] = bgr\n",
    "        i+=1\n",
    "        if(show):\n",
    "            cv.imshow(\"Frame\", bgr)\n",
    "            cv.waitKey(50)\n",
    "    # print(f\"Out: {i}\")\n",
    "\n",
    "    bgr = cv2.resize(bgr, dim, interpolation=cv2.INTER_AREA)\n",
    "    if(i>1):\n",
    "        return out\n",
    "        \n",
    "    return bgr\n",
    "\n"
   ]
  },
  {
   "cell_type": "code",
   "execution_count": 89,
   "metadata": {},
   "outputs": [],
   "source": [
    "width =112\n",
    "height = 112\n",
    "\n",
    "def get_model(input_shape, outputShape,opt, lossFunc):\n",
    "    x = Input(shape=input_shape)\n",
    "    # h = Conv1D(1, 3, activation='relu',input_shape=input_shape)(x)\n",
    "    if(len(input_shape)>=4):\n",
    "            h = Conv2D(filters=1, kernel_size=1, activation='relu', input_shape=(input_shape))(x)\n",
    "            # h = tf.squeeze(h,-1)\n",
    "            # h = tf.keras.backend.permute_dimensions(h,(0,2,3,1))\n",
    "\n",
    "    else:\n",
    "        h = Conv2D(32, padding='same', kernel_size=(3,3), activation='relu')(x)\n",
    "        h = Conv2D(32, padding='same', kernel_size=(3,3), activation='relu')(x)\n",
    "\n",
    "\n",
    "    # h = Conv2D(32, padding='same', kernel_size=(3,3), activation='relu')(x)\n",
    "    # h = Conv2D(32, padding='same', kernel_size=(3,3), activation='relu')(x)\n",
    "    h = MaxPooling2D(pool_size=(2,2))(h)\n",
    "    h = Conv2D(64, padding='same', kernel_size=(3,3), activation='relu')(h)\n",
    "    h = Conv2D(64, padding='same', kernel_size=(3,3), activation='relu')(h)\n",
    "    h = MaxPooling2D(pool_size=(2,2))(h)\n",
    "    # h = Dropout(.3)(h)\n",
    "    h = Conv2D(128, kernel_size=(3,3), activation='relu')(h)\n",
    "    h = Conv2D(128, kernel_size=(3,3), activation='relu')(h)\n",
    "    h = MaxPooling2D(pool_size=(2,2))(h)\n",
    "    h = Flatten()(h)\n",
    "    h = Dense(128, activation='relu')(h)\n",
    "    h = Dropout(.5)(h)\n",
    "    output = Dense(outputShape, activation='softmax')(h)\n",
    "\n",
    "    model = tf.keras.Model(inputs=x, outputs=output)\n",
    "    \n",
    "    model.compile(optimizer=opt, # 'adam'\n",
    "             loss=tf.keras.losses.SparseCategoricalCrossentropy(from_logits=True), # \n",
    "             metrics=['accuracy'])\n",
    "    return model\n",
    " \n",
    "# benchmark_model.summary()\n",
    "\n"
   ]
  },
  {
   "cell_type": "code",
   "execution_count": 63,
   "metadata": {},
   "outputs": [],
   "source": [
    "# def get_model(input_shape, outputShape,opt, lossFunc):\n",
    "#     x = Input(shape=input_shape)\n",
    "#     h = Conv1D(filters=1, kernel_size=1, activation='relu', input_shape=(input_shape))(x)\n",
    "#     print(h.shape)\n",
    "#     h = tf.squeeze(h,-1)\n",
    "#     print(h.shape)\n",
    "#     # h = tf.keras.layers.Concatenate()([h[0], h[2:3,], h[1]])\n",
    "#     h = Conv2D(64, padding='same', kernel_size=(3,3), activation='relu')(h)\n",
    "#     h = MaxPooling1D(pool_size=2)(h)\n",
    "#     h = Conv2D(128, kernel_size=(3,3), activation='relu')(h)\n",
    "#     h = Conv2D(128, kernel_size=(3,3), activation='relu')(h)\n",
    "#     h = MaxPooling1D(pool_size=2)(h)\n",
    "#     h = Flatten()(h)\n",
    "#     output = Dense(outputShape, activation='softmax')(h)\n",
    "\n",
    "\n",
    "#     model = tf.keras.Model(inputs=x, outputs=output)\n",
    "    \n",
    "#     model.compile(optimizer=opt, # 'adam'\n",
    "#              loss=tf.keras.losses.SparseCategoricalCrossentropy(from_logits=True), # \n",
    "#              metrics=['accuracy'])\n",
    "#     return model\n",
    " \n",
    "# benchmark_model = get_model((3,width, height, 3), 4,'adam', 'categorical_crossentropy') # len(train_labels)\n"
   ]
  },
  {
   "cell_type": "code",
   "execution_count": 64,
   "metadata": {},
   "outputs": [],
   "source": [
    "\n",
    "train_images_TV = [denseOpticalFlow(set_2, set_idx,1, (112,112), show = False) for set_idx in range(len(set_2))]\n",
    "train_images_TV = np.array(train_images_TV)\n",
    "\n",
    "\n",
    "test_images_TV = [denseOpticalFlow(set_1, set_idx,1, (112,112),show = False) for set_idx in range(len(set_1))]\n",
    "test_images_TV = np.array(test_images_TV)\n"
   ]
  },
  {
   "cell_type": "code",
   "execution_count": 67,
   "metadata": {},
   "outputs": [],
   "source": [
    "train_images_TV = [denseOpticalFlow(set_2, set_idx,3, (112,112), show = False) for set_idx in range(len(set_2))]\n",
    "train_images_TV = np.array(train_images_TV)\n",
    "\n",
    "test_images_TV = [denseOpticalFlow(set_1, set_idx,3, (112,112),show = False) for set_idx in range(len(set_1))]\n",
    "test_images_TV = np.array(test_images_TV)\n"
   ]
  },
  {
   "cell_type": "code",
   "execution_count": 16,
   "metadata": {},
   "outputs": [
    {
     "data": {
      "text/plain": [
       "(100, 112, 112, 3, 3)"
      ]
     },
     "execution_count": 16,
     "metadata": {},
     "output_type": "execute_result"
    }
   ],
   "source": [
    "train_images_TV.shape"
   ]
  },
  {
   "cell_type": "code",
   "execution_count": 68,
   "metadata": {},
   "outputs": [],
   "source": [
    "s = np.arange(train_images_TV.shape[0])\n",
    "np.random.shuffle(s)\n",
    "\n",
    "train_images_TV = train_images_TV[s,:,:,:,:]\n",
    "\n",
    "val = 0.2\n",
    "\n",
    "valint = int(train_images_TV.shape[0]*val)\n",
    "\n",
    "valTrain = train_images_TV[:valint,:,:,:,:]\n",
    "xtrain = train_images_TV[valint:,:,:,:,:]"
   ]
  },
  {
   "cell_type": "code",
   "execution_count": 69,
   "metadata": {},
   "outputs": [],
   "source": [
    "test_labels_y_TV = preprocess_labels(set_1_label)\n",
    "train_labels_y_TV = preprocess_labels(set_2_label)\n",
    "\n",
    "yshuffle = train_labels_y_TV[s]\n",
    "\n",
    "ytrain = yshuffle[valint:]\n",
    "yval = yshuffle[:valint]"
   ]
  },
  {
   "cell_type": "code",
   "execution_count": null,
   "metadata": {},
   "outputs": [
    {
     "data": {
      "text/plain": [
       "(80, 112, 112, 3, 3)"
      ]
     },
     "execution_count": 28,
     "metadata": {},
     "output_type": "execute_result"
    }
   ],
   "source": [
    "xtrain.shape"
   ]
  },
  {
   "cell_type": "code",
   "execution_count": null,
   "metadata": {},
   "outputs": [
    {
     "ename": "KeyboardInterrupt",
     "evalue": "",
     "output_type": "error",
     "traceback": [
      "\u001b[1;31m---------------------------------------------------------------------------\u001b[0m",
      "\u001b[1;31mKeyboardInterrupt\u001b[0m                         Traceback (most recent call last)",
      "\u001b[1;32md:\\github_\\ComputerVision\\Assignment_5\\DenseOF.ipynb Cell 13'\u001b[0m in \u001b[0;36m<cell line: 6>\u001b[1;34m()\u001b[0m\n\u001b[0;32m      <a href='vscode-notebook-cell:/d%3A/github_/ComputerVision/Assignment_5/DenseOF.ipynb#ch0000021?line=1'>2</a>\u001b[0m cv2\u001b[39m.\u001b[39mresizeWindow(\u001b[39m'\u001b[39m\u001b[39mimage\u001b[39m\u001b[39m'\u001b[39m, \u001b[39m600\u001b[39m,\u001b[39m600\u001b[39m)\n\u001b[0;32m      <a href='vscode-notebook-cell:/d%3A/github_/ComputerVision/Assignment_5/DenseOF.ipynb#ch0000021?line=4'>5</a>\u001b[0m cv\u001b[39m.\u001b[39mimshow(\u001b[39m\"\u001b[39m\u001b[39mimage\u001b[39m\u001b[39m\"\u001b[39m,xtrain[\u001b[39m0\u001b[39m,:,:,:])\n\u001b[1;32m----> <a href='vscode-notebook-cell:/d%3A/github_/ComputerVision/Assignment_5/DenseOF.ipynb#ch0000021?line=5'>6</a>\u001b[0m cv\u001b[39m.\u001b[39;49mwaitKey(\u001b[39m0\u001b[39;49m)\n",
      "\u001b[1;31mKeyboardInterrupt\u001b[0m: "
     ]
    }
   ],
   "source": [
    "cv2.namedWindow('image',cv2.WINDOW_NORMAL)\n",
    "cv2.resizeWindow('image', 600,600)\n",
    "\n",
    "\n",
    "cv.imshow(\"image\",xtrain[0,:,:,:])\n",
    "cv.waitKey(0)"
   ]
  },
  {
   "cell_type": "code",
   "execution_count": 88,
   "metadata": {},
   "outputs": [
    {
     "ename": "ValueError",
     "evalue": "Input 0 of layer \"max_pooling2d_55\" is incompatible with the layer: expected ndim=4, found ndim=5. Full shape received: (None, 112, 112, 3, 20)",
     "output_type": "error",
     "traceback": [
      "\u001b[1;31m---------------------------------------------------------------------------\u001b[0m",
      "\u001b[1;31mValueError\u001b[0m                                Traceback (most recent call last)",
      "\u001b[1;32md:\\github_\\ComputerVision\\Assignment_5\\DenseOF.ipynb Cell 14'\u001b[0m in \u001b[0;36m<cell line: 1>\u001b[1;34m()\u001b[0m\n\u001b[1;32m----> <a href='vscode-notebook-cell:/d%3A/github_/ComputerVision/Assignment_5/DenseOF.ipynb#ch0000007?line=0'>1</a>\u001b[0m benchmark_model \u001b[39m=\u001b[39m get_model((width, height, \u001b[39m3\u001b[39;49m,\u001b[39m3\u001b[39;49m), \u001b[39m4\u001b[39;49m,\u001b[39m'\u001b[39;49m\u001b[39madam\u001b[39;49m\u001b[39m'\u001b[39;49m, \u001b[39m'\u001b[39;49m\u001b[39mcategorical_crossentropy\u001b[39;49m\u001b[39m'\u001b[39;49m) \u001b[39m# len(train_labels)\u001b[39;00m\n\u001b[0;32m      <a href='vscode-notebook-cell:/d%3A/github_/ComputerVision/Assignment_5/DenseOF.ipynb#ch0000007?line=3'>4</a>\u001b[0m history \u001b[39m=\u001b[39m benchmark_model\u001b[39m.\u001b[39mfit(xtrain,ytrain , epochs\u001b[39m=\u001b[39m\u001b[39m20\u001b[39m, batch_size\u001b[39m=\u001b[39m\u001b[39m32\u001b[39m, validation_data\u001b[39m=\u001b[39m(valTrain, yval))\n\u001b[0;32m      <a href='vscode-notebook-cell:/d%3A/github_/ComputerVision/Assignment_5/DenseOF.ipynb#ch0000007?line=5'>6</a>\u001b[0m _, test_acc \u001b[39m=\u001b[39m benchmark_model\u001b[39m.\u001b[39mevaluate(test_images_TV, test_labels_y_TV, verbose\u001b[39m=\u001b[39m\u001b[39m2\u001b[39m)\n",
      "\u001b[1;32md:\\github_\\ComputerVision\\Assignment_5\\DenseOF.ipynb Cell 5'\u001b[0m in \u001b[0;36mget_model\u001b[1;34m(input_shape, outputShape, opt, lossFunc)\u001b[0m\n\u001b[0;32m     <a href='vscode-notebook-cell:/d%3A/github_/ComputerVision/Assignment_5/DenseOF.ipynb#ch0000017?line=13'>14</a>\u001b[0m     h \u001b[39m=\u001b[39m Conv2D(\u001b[39m32\u001b[39m, padding\u001b[39m=\u001b[39m\u001b[39m'\u001b[39m\u001b[39msame\u001b[39m\u001b[39m'\u001b[39m, kernel_size\u001b[39m=\u001b[39m(\u001b[39m3\u001b[39m,\u001b[39m3\u001b[39m), activation\u001b[39m=\u001b[39m\u001b[39m'\u001b[39m\u001b[39mrelu\u001b[39m\u001b[39m'\u001b[39m)(x)\n\u001b[0;32m     <a href='vscode-notebook-cell:/d%3A/github_/ComputerVision/Assignment_5/DenseOF.ipynb#ch0000017?line=16'>17</a>\u001b[0m \u001b[39m# h = Conv2D(32, padding='same', kernel_size=(3,3), activation='relu')(x)\u001b[39;00m\n\u001b[0;32m     <a href='vscode-notebook-cell:/d%3A/github_/ComputerVision/Assignment_5/DenseOF.ipynb#ch0000017?line=17'>18</a>\u001b[0m \u001b[39m# h = Conv2D(32, padding='same', kernel_size=(3,3), activation='relu')(x)\u001b[39;00m\n\u001b[1;32m---> <a href='vscode-notebook-cell:/d%3A/github_/ComputerVision/Assignment_5/DenseOF.ipynb#ch0000017?line=18'>19</a>\u001b[0m h \u001b[39m=\u001b[39m MaxPooling2D(pool_size\u001b[39m=\u001b[39;49m(\u001b[39m2\u001b[39;49m,\u001b[39m2\u001b[39;49m))(h)\n\u001b[0;32m     <a href='vscode-notebook-cell:/d%3A/github_/ComputerVision/Assignment_5/DenseOF.ipynb#ch0000017?line=19'>20</a>\u001b[0m h \u001b[39m=\u001b[39m Conv2D(\u001b[39m64\u001b[39m, padding\u001b[39m=\u001b[39m\u001b[39m'\u001b[39m\u001b[39msame\u001b[39m\u001b[39m'\u001b[39m, kernel_size\u001b[39m=\u001b[39m(\u001b[39m3\u001b[39m,\u001b[39m3\u001b[39m), activation\u001b[39m=\u001b[39m\u001b[39m'\u001b[39m\u001b[39mrelu\u001b[39m\u001b[39m'\u001b[39m)(h)\n\u001b[0;32m     <a href='vscode-notebook-cell:/d%3A/github_/ComputerVision/Assignment_5/DenseOF.ipynb#ch0000017?line=20'>21</a>\u001b[0m h \u001b[39m=\u001b[39m Conv2D(\u001b[39m64\u001b[39m, padding\u001b[39m=\u001b[39m\u001b[39m'\u001b[39m\u001b[39msame\u001b[39m\u001b[39m'\u001b[39m, kernel_size\u001b[39m=\u001b[39m(\u001b[39m3\u001b[39m,\u001b[39m3\u001b[39m), activation\u001b[39m=\u001b[39m\u001b[39m'\u001b[39m\u001b[39mrelu\u001b[39m\u001b[39m'\u001b[39m)(h)\n",
      "File \u001b[1;32mD:\\Anaconda_2\\envs\\tf2.4\\lib\\site-packages\\keras\\utils\\traceback_utils.py:67\u001b[0m, in \u001b[0;36mfilter_traceback.<locals>.error_handler\u001b[1;34m(*args, **kwargs)\u001b[0m\n\u001b[0;32m     <a href='file:///d%3A/Anaconda_2/envs/tf2.4/lib/site-packages/keras/utils/traceback_utils.py?line=64'>65</a>\u001b[0m \u001b[39mexcept\u001b[39;00m \u001b[39mException\u001b[39;00m \u001b[39mas\u001b[39;00m e:  \u001b[39m# pylint: disable=broad-except\u001b[39;00m\n\u001b[0;32m     <a href='file:///d%3A/Anaconda_2/envs/tf2.4/lib/site-packages/keras/utils/traceback_utils.py?line=65'>66</a>\u001b[0m   filtered_tb \u001b[39m=\u001b[39m _process_traceback_frames(e\u001b[39m.\u001b[39m__traceback__)\n\u001b[1;32m---> <a href='file:///d%3A/Anaconda_2/envs/tf2.4/lib/site-packages/keras/utils/traceback_utils.py?line=66'>67</a>\u001b[0m   \u001b[39mraise\u001b[39;00m e\u001b[39m.\u001b[39mwith_traceback(filtered_tb) \u001b[39mfrom\u001b[39;00m \u001b[39mNone\u001b[39m\n\u001b[0;32m     <a href='file:///d%3A/Anaconda_2/envs/tf2.4/lib/site-packages/keras/utils/traceback_utils.py?line=67'>68</a>\u001b[0m \u001b[39mfinally\u001b[39;00m:\n\u001b[0;32m     <a href='file:///d%3A/Anaconda_2/envs/tf2.4/lib/site-packages/keras/utils/traceback_utils.py?line=68'>69</a>\u001b[0m   \u001b[39mdel\u001b[39;00m filtered_tb\n",
      "File \u001b[1;32mD:\\Anaconda_2\\envs\\tf2.4\\lib\\site-packages\\keras\\engine\\input_spec.py:214\u001b[0m, in \u001b[0;36massert_input_compatibility\u001b[1;34m(input_spec, inputs, layer_name)\u001b[0m\n\u001b[0;32m    <a href='file:///d%3A/Anaconda_2/envs/tf2.4/lib/site-packages/keras/engine/input_spec.py?line=211'>212</a>\u001b[0m   ndim \u001b[39m=\u001b[39m shape\u001b[39m.\u001b[39mrank\n\u001b[0;32m    <a href='file:///d%3A/Anaconda_2/envs/tf2.4/lib/site-packages/keras/engine/input_spec.py?line=212'>213</a>\u001b[0m   \u001b[39mif\u001b[39;00m ndim \u001b[39m!=\u001b[39m spec\u001b[39m.\u001b[39mndim:\n\u001b[1;32m--> <a href='file:///d%3A/Anaconda_2/envs/tf2.4/lib/site-packages/keras/engine/input_spec.py?line=213'>214</a>\u001b[0m     \u001b[39mraise\u001b[39;00m \u001b[39mValueError\u001b[39;00m(\u001b[39mf\u001b[39m\u001b[39m'\u001b[39m\u001b[39mInput \u001b[39m\u001b[39m{\u001b[39;00minput_index\u001b[39m}\u001b[39;00m\u001b[39m of layer \u001b[39m\u001b[39m\"\u001b[39m\u001b[39m{\u001b[39;00mlayer_name\u001b[39m}\u001b[39;00m\u001b[39m\"\u001b[39m\u001b[39m \u001b[39m\u001b[39m'\u001b[39m\n\u001b[0;32m    <a href='file:///d%3A/Anaconda_2/envs/tf2.4/lib/site-packages/keras/engine/input_spec.py?line=214'>215</a>\u001b[0m                      \u001b[39m'\u001b[39m\u001b[39mis incompatible with the layer: \u001b[39m\u001b[39m'\u001b[39m\n\u001b[0;32m    <a href='file:///d%3A/Anaconda_2/envs/tf2.4/lib/site-packages/keras/engine/input_spec.py?line=215'>216</a>\u001b[0m                      \u001b[39mf\u001b[39m\u001b[39m'\u001b[39m\u001b[39mexpected ndim=\u001b[39m\u001b[39m{\u001b[39;00mspec\u001b[39m.\u001b[39mndim\u001b[39m}\u001b[39;00m\u001b[39m, found ndim=\u001b[39m\u001b[39m{\u001b[39;00mndim\u001b[39m}\u001b[39;00m\u001b[39m. \u001b[39m\u001b[39m'\u001b[39m\n\u001b[0;32m    <a href='file:///d%3A/Anaconda_2/envs/tf2.4/lib/site-packages/keras/engine/input_spec.py?line=216'>217</a>\u001b[0m                      \u001b[39mf\u001b[39m\u001b[39m'\u001b[39m\u001b[39mFull shape received: \u001b[39m\u001b[39m{\u001b[39;00m\u001b[39mtuple\u001b[39m(shape)\u001b[39m}\u001b[39;00m\u001b[39m'\u001b[39m)\n\u001b[0;32m    <a href='file:///d%3A/Anaconda_2/envs/tf2.4/lib/site-packages/keras/engine/input_spec.py?line=217'>218</a>\u001b[0m \u001b[39mif\u001b[39;00m spec\u001b[39m.\u001b[39mmax_ndim \u001b[39mis\u001b[39;00m \u001b[39mnot\u001b[39;00m \u001b[39mNone\u001b[39;00m:\n\u001b[0;32m    <a href='file:///d%3A/Anaconda_2/envs/tf2.4/lib/site-packages/keras/engine/input_spec.py?line=218'>219</a>\u001b[0m   ndim \u001b[39m=\u001b[39m x\u001b[39m.\u001b[39mshape\u001b[39m.\u001b[39mrank\n",
      "\u001b[1;31mValueError\u001b[0m: Input 0 of layer \"max_pooling2d_55\" is incompatible with the layer: expected ndim=4, found ndim=5. Full shape received: (None, 112, 112, 3, 20)"
     ]
    }
   ],
   "source": [
    "benchmark_model = get_model((width, height, 3,3), 4,'adam', 'categorical_crossentropy') # len(train_labels)\n",
    "\n",
    "\n",
    "history = benchmark_model.fit(xtrain,ytrain , epochs=20, batch_size=32, validation_data=(valTrain, yval))\n",
    "\n",
    "_, test_acc = benchmark_model.evaluate(test_images_TV, test_labels_y_TV, verbose=2)\n",
    "print(test_acc)"
   ]
  },
  {
   "cell_type": "code",
   "execution_count": 85,
   "metadata": {},
   "outputs": [
    {
     "data": {
      "image/png": "[encoded data removed]",
      "text/plain": [
       "<Figure size 432x288 with 1 Axes>"
      ]
     },
     "metadata": {
      "needs_background": "light"
     },
     "output_type": "display_data"
    },
    {
     "data": {
      "image/png": "[encoded data removed]",
      "text/plain": [
       "<Figure size 432x288 with 1 Axes>"
      ]
     },
     "metadata": {
      "needs_background": "light"
     },
     "output_type": "display_data"
    }
   ],
   "source": [
    "plt.plot(history.history['accuracy'])\n",
    "plt.plot(history.history['val_accuracy'])\n",
    "plt.title('model accuracy')\n",
    "plt.ylabel('accuracy')\n",
    "plt.xlabel('epoch')\n",
    "plt.legend(['train', 'validation'], loc='upper left')\n",
    "plt.show()\n",
    "# summarize history for loss\n",
    "plt.plot(history.history['loss'])\n",
    "plt.plot(history.history['val_loss'])\n",
    "plt.title('model loss')\n",
    "plt.ylabel('loss')\n",
    "plt.xlabel('epoch')\n",
    "plt.legend(['train', 'validation'], loc='upper left')\n",
    "plt.show()"
   ]
  },
  {
   "cell_type": "code",
   "execution_count": null,
   "metadata": {},
   "outputs": [],
   "source": []
  }
 ],
 "metadata": {
  "interpreter": {
   "hash": "b26b377b6521054fae3a74a2f14cb9ee384f6c6757db04c797c5f4188bc4f62d"
  },
  "kernelspec": {
   "display_name": "Python 3.8.0 ('tf2.4')",
   "language": "python",
   "name": "python3"
  },
  "language_info": {
   "codemirror_mode": {
    "name": "ipython",
    "version": 3
   },
   "file_extension": ".py",
   "mimetype": "text/x-python",
   "name": "python",
   "nbconvert_exporter": "python",
   "pygments_lexer": "ipython3",
   "version": "3.8.0"
  },
  "orig_nbformat": 4
 },
 "nbformat": 4,
 "nbformat_minor": 2
}
